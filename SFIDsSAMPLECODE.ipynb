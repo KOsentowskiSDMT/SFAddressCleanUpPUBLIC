{
 "cells": [
  {
   "cell_type": "code",
   "execution_count": 1,
   "id": "96099f33-b54f-4c59-9898-062fd61aa98b",
   "metadata": {},
   "outputs": [],
   "source": [
    "import pandas as pd"
   ]
  },
  {
   "cell_type": "code",
   "execution_count": 3,
   "id": "07d276d1-790c-45e0-8717-02053772f013",
   "metadata": {},
   "outputs": [
    {
     "data": {
      "text/html": [
       "<div>\n",
       "<style scoped>\n",
       "    .dataframe tbody tr th:only-of-type {\n",
       "        vertical-align: middle;\n",
       "    }\n",
       "\n",
       "    .dataframe tbody tr th {\n",
       "        vertical-align: top;\n",
       "    }\n",
       "\n",
       "    .dataframe thead th {\n",
       "        text-align: right;\n",
       "    }\n",
       "</style>\n",
       "<table border=\"1\" class=\"dataframe\">\n",
       "  <thead>\n",
       "    <tr style=\"text-align: right;\">\n",
       "      <th></th>\n",
       "      <th>SF_ContactID</th>\n",
       "      <th>SF_AccountID LONG</th>\n",
       "      <th>HouseholdPrimaryChapter</th>\n",
       "      <th>RE_MailingStreet</th>\n",
       "      <th>RE_City</th>\n",
       "      <th>RE_State</th>\n",
       "      <th>RE_Zip</th>\n",
       "      <th>SF_ContactMailingStreet</th>\n",
       "      <th>SF_ContactMailingCity</th>\n",
       "      <th>SF_ContactMailingState</th>\n",
       "      <th>SF_ContactMailingPostalCode</th>\n",
       "      <th>SF_AccountBillingStreet</th>\n",
       "      <th>SF_AccountBillingCity</th>\n",
       "      <th>SF_AccountBillingState</th>\n",
       "      <th>SF_AccountBillingPostalCode</th>\n",
       "      <th>SF_AccountID</th>\n",
       "    </tr>\n",
       "  </thead>\n",
       "  <tbody>\n",
       "    <tr>\n",
       "      <th>0</th>\n",
       "      <td>300265074</td>\n",
       "      <td>0011Account123</td>\n",
       "      <td>027 - MAW South Dakota &amp; Montana</td>\n",
       "      <td>123 Main</td>\n",
       "      <td>Sioux Falls</td>\n",
       "      <td>SD</td>\n",
       "      <td>57108</td>\n",
       "      <td>236 South St.</td>\n",
       "      <td>Sioux Falls</td>\n",
       "      <td>South Dakota</td>\n",
       "      <td>57108</td>\n",
       "      <td>394 North Ave.</td>\n",
       "      <td>Sioux Falls</td>\n",
       "      <td>South Dakota</td>\n",
       "      <td>57108</td>\n",
       "      <td>0011Account</td>\n",
       "    </tr>\n",
       "  </tbody>\n",
       "</table>\n",
       "</div>"
      ],
      "text/plain": [
       "   SF_ContactID SF_AccountID LONG           HouseholdPrimaryChapter  \\\n",
       "0     300265074    0011Account123  027 - MAW South Dakota & Montana   \n",
       "\n",
       "  RE_MailingStreet      RE_City RE_State  RE_Zip SF_ContactMailingStreet  \\\n",
       "0         123 Main  Sioux Falls       SD   57108          236 South St.    \n",
       "\n",
       "  SF_ContactMailingCity SF_ContactMailingState  SF_ContactMailingPostalCode  \\\n",
       "0           Sioux Falls           South Dakota                        57108   \n",
       "\n",
       "  SF_AccountBillingStreet SF_AccountBillingCity SF_AccountBillingState  \\\n",
       "0         394 North Ave.            Sioux Falls           South Dakota   \n",
       "\n",
       "   SF_AccountBillingPostalCode SF_AccountID  \n",
       "0                        57108  0011Account  "
      ]
     },
     "execution_count": 3,
     "metadata": {},
     "output_type": "execute_result"
    }
   ],
   "source": [
    "#Taking in National CSV (cleaned in Excel previous to adding in)\n",
    "csv1 = pd.read_csv(\"027 TEST National Workbook.csv\")\n",
    "#Just viewing some data\n",
    "csv1.head()"
   ]
  },
  {
   "cell_type": "code",
   "execution_count": 4,
   "id": "6de09f39-2e4a-47a2-81a4-b14f83e75f45",
   "metadata": {},
   "outputs": [
    {
     "data": {
      "text/html": [
       "<div>\n",
       "<style scoped>\n",
       "    .dataframe tbody tr th:only-of-type {\n",
       "        vertical-align: middle;\n",
       "    }\n",
       "\n",
       "    .dataframe tbody tr th {\n",
       "        vertical-align: top;\n",
       "    }\n",
       "\n",
       "    .dataframe thead th {\n",
       "        text-align: right;\n",
       "    }\n",
       "</style>\n",
       "<table border=\"1\" class=\"dataframe\">\n",
       "  <thead>\n",
       "    <tr style=\"text-align: right;\">\n",
       "      <th></th>\n",
       "      <th>First Name</th>\n",
       "      <th>Last Name</th>\n",
       "      <th>Account Name</th>\n",
       "      <th>SF_AccountID</th>\n",
       "      <th>Contact ID</th>\n",
       "    </tr>\n",
       "  </thead>\n",
       "  <tbody>\n",
       "    <tr>\n",
       "      <th>0</th>\n",
       "      <td>Kaylee</td>\n",
       "      <td>Osentowski</td>\n",
       "      <td>Osentowski Household</td>\n",
       "      <td>0011Account</td>\n",
       "      <td>300265074</td>\n",
       "    </tr>\n",
       "  </tbody>\n",
       "</table>\n",
       "</div>"
      ],
      "text/plain": [
       "  First Name   Last Name          Account Name SF_AccountID  Contact ID\n",
       "0     Kaylee  Osentowski  Osentowski Household  0011Account   300265074"
      ]
     },
     "execution_count": 4,
     "metadata": {},
     "output_type": "execute_result"
    }
   ],
   "source": [
    "#Taking in SF ID report as CSV\n",
    "csv2 = pd.read_csv(\"027 TEST Salesforce Data.csv\")\n",
    "csv2.head()"
   ]
  },
  {
   "cell_type": "code",
   "execution_count": 5,
   "id": "d8f26e66-07e0-446f-89e9-caa27239082d",
   "metadata": {},
   "outputs": [
    {
     "data": {
      "text/html": [
       "<div>\n",
       "<style scoped>\n",
       "    .dataframe tbody tr th:only-of-type {\n",
       "        vertical-align: middle;\n",
       "    }\n",
       "\n",
       "    .dataframe tbody tr th {\n",
       "        vertical-align: top;\n",
       "    }\n",
       "\n",
       "    .dataframe thead th {\n",
       "        text-align: right;\n",
       "    }\n",
       "</style>\n",
       "<table border=\"1\" class=\"dataframe\">\n",
       "  <thead>\n",
       "    <tr style=\"text-align: right;\">\n",
       "      <th></th>\n",
       "      <th>SF_ContactID</th>\n",
       "      <th>SF_AccountID LONG</th>\n",
       "      <th>HouseholdPrimaryChapter</th>\n",
       "      <th>RE_MailingStreet</th>\n",
       "      <th>RE_City</th>\n",
       "      <th>RE_State</th>\n",
       "      <th>RE_Zip</th>\n",
       "      <th>SF_ContactMailingStreet</th>\n",
       "      <th>SF_ContactMailingCity</th>\n",
       "      <th>SF_ContactMailingState</th>\n",
       "      <th>SF_ContactMailingPostalCode</th>\n",
       "      <th>SF_AccountBillingStreet</th>\n",
       "      <th>SF_AccountBillingCity</th>\n",
       "      <th>SF_AccountBillingState</th>\n",
       "      <th>SF_AccountBillingPostalCode</th>\n",
       "      <th>SF_AccountID</th>\n",
       "      <th>First Name</th>\n",
       "      <th>Last Name</th>\n",
       "      <th>Account Name</th>\n",
       "      <th>Contact ID</th>\n",
       "    </tr>\n",
       "  </thead>\n",
       "  <tbody>\n",
       "    <tr>\n",
       "      <th>0</th>\n",
       "      <td>300265074</td>\n",
       "      <td>0011Account123</td>\n",
       "      <td>027 - MAW South Dakota &amp; Montana</td>\n",
       "      <td>123 Main</td>\n",
       "      <td>Sioux Falls</td>\n",
       "      <td>SD</td>\n",
       "      <td>57108</td>\n",
       "      <td>236 South St.</td>\n",
       "      <td>Sioux Falls</td>\n",
       "      <td>South Dakota</td>\n",
       "      <td>57108</td>\n",
       "      <td>394 North Ave.</td>\n",
       "      <td>Sioux Falls</td>\n",
       "      <td>South Dakota</td>\n",
       "      <td>57108</td>\n",
       "      <td>0011Account</td>\n",
       "      <td>Kaylee</td>\n",
       "      <td>Osentowski</td>\n",
       "      <td>Osentowski Household</td>\n",
       "      <td>300265074</td>\n",
       "    </tr>\n",
       "  </tbody>\n",
       "</table>\n",
       "</div>"
      ],
      "text/plain": [
       "   SF_ContactID SF_AccountID LONG           HouseholdPrimaryChapter  \\\n",
       "0     300265074    0011Account123  027 - MAW South Dakota & Montana   \n",
       "\n",
       "  RE_MailingStreet      RE_City RE_State  RE_Zip SF_ContactMailingStreet  \\\n",
       "0         123 Main  Sioux Falls       SD   57108          236 South St.    \n",
       "\n",
       "  SF_ContactMailingCity SF_ContactMailingState  SF_ContactMailingPostalCode  \\\n",
       "0           Sioux Falls           South Dakota                        57108   \n",
       "\n",
       "  SF_AccountBillingStreet SF_AccountBillingCity SF_AccountBillingState  \\\n",
       "0         394 North Ave.            Sioux Falls           South Dakota   \n",
       "\n",
       "   SF_AccountBillingPostalCode SF_AccountID First Name   Last Name  \\\n",
       "0                        57108  0011Account     Kaylee  Osentowski   \n",
       "\n",
       "           Account Name  Contact ID  \n",
       "0  Osentowski Household   300265074  "
      ]
     },
     "execution_count": 5,
     "metadata": {},
     "output_type": "execute_result"
    }
   ],
   "source": [
    "#Merging Data together based on common key\n",
    "merged_data = csv1.merge(csv2,on=[\"SF_AccountID\"])\n",
    "merged_data.head()"
   ]
  },
  {
   "cell_type": "code",
   "execution_count": null,
   "id": "93d1c9dd-05ec-4b89-9826-51de8d6e5842",
   "metadata": {},
   "outputs": [],
   "source": [
    "#creating Excel workbook \n",
    "write = pd.ExcelWriter('convertedID.xlsx')"
   ]
  },
  {
   "cell_type": "code",
   "execution_count": null,
   "id": "1bfac05c-b0c3-48d8-ba0b-d93748122b4a",
   "metadata": {},
   "outputs": [],
   "source": [
    "#Adding merged data to Excel workbook\n",
    "merged_data.to_excel(write)\n",
    "write.save()\n",
    "#Letting us know it worked! \n",
    "print(\"it worked!\")"
   ]
  }
 ],
 "metadata": {
  "kernelspec": {
   "display_name": "anaconda-2022.05-py39",
   "language": "python",
   "name": "conda-env-anaconda-2022.05-py39-py"
  },
  "language_info": {
   "codemirror_mode": {
    "name": "ipython",
    "version": 3
   },
   "file_extension": ".py",
   "mimetype": "text/x-python",
   "name": "python",
   "nbconvert_exporter": "python",
   "pygments_lexer": "ipython3",
   "version": "3.9.12"
  }
 },
 "nbformat": 4,
 "nbformat_minor": 5
}
